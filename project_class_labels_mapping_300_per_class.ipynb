{
 "cells": [
  {
   "cell_type": "code",
   "execution_count": 1,
   "metadata": {},
   "outputs": [
    {
     "data": {
      "text/html": [
       "<div>\n",
       "<style>\n",
       "    .dataframe thead tr:only-child th {\n",
       "        text-align: right;\n",
       "    }\n",
       "\n",
       "    .dataframe thead th {\n",
       "        text-align: left;\n",
       "    }\n",
       "\n",
       "    .dataframe tbody tr th {\n",
       "        vertical-align: top;\n",
       "    }\n",
       "</style>\n",
       "<table border=\"1\" class=\"dataframe\">\n",
       "  <thead>\n",
       "    <tr style=\"text-align: right;\">\n",
       "      <th></th>\n",
       "      <th>TCGA-OR-A5J1-01A-11R-A29S-07</th>\n",
       "      <th>TCGA-OR-A5J2-01A-11R-A29S-07</th>\n",
       "      <th>TCGA-OR-A5J3-01A-11R-A29S-07</th>\n",
       "      <th>TCGA-OR-A5J5-01A-11R-A29S-07</th>\n",
       "      <th>TCGA-OR-A5J6-01A-31R-A29S-07</th>\n",
       "      <th>TCGA-OR-A5J7-01A-11R-A29S-07</th>\n",
       "      <th>TCGA-OR-A5J8-01A-11R-A29S-07</th>\n",
       "      <th>TCGA-OR-A5J9-01A-11R-A29S-07</th>\n",
       "      <th>TCGA-OR-A5JA-01A-11R-A29S-07</th>\n",
       "      <th>TCGA-OR-A5JB-01A-11R-A29S-07</th>\n",
       "      <th>...</th>\n",
       "      <th>TCGA-VQ-AA6A-01A-11R-A414-31</th>\n",
       "      <th>TCGA-VQ-AA6B-01A-11R-A414-31</th>\n",
       "      <th>TCGA-VQ-AA6D-01A-11R-A414-31</th>\n",
       "      <th>TCGA-VQ-AA6F-01A-31R-A414-31</th>\n",
       "      <th>TCGA-VQ-AA6G-01A-11R-A414-31</th>\n",
       "      <th>TCGA-VQ-AA6I-01A-11R-A414-31</th>\n",
       "      <th>TCGA-VQ-AA6J-01A-11R-A414-31</th>\n",
       "      <th>TCGA-VQ-AA6K-01A-11R-A414-31</th>\n",
       "      <th>TCGA-ZA-A8F6-01A-23R-A36D-31</th>\n",
       "      <th>TCGA-ZQ-A9CR-01A-11R-A39E-31</th>\n",
       "    </tr>\n",
       "    <tr>\n",
       "      <th>0.0gene_id</th>\n",
       "      <th></th>\n",
       "      <th></th>\n",
       "      <th></th>\n",
       "      <th></th>\n",
       "      <th></th>\n",
       "      <th></th>\n",
       "      <th></th>\n",
       "      <th></th>\n",
       "      <th></th>\n",
       "      <th></th>\n",
       "      <th></th>\n",
       "      <th></th>\n",
       "      <th></th>\n",
       "      <th></th>\n",
       "      <th></th>\n",
       "      <th></th>\n",
       "      <th></th>\n",
       "      <th></th>\n",
       "      <th></th>\n",
       "      <th></th>\n",
       "      <th></th>\n",
       "    </tr>\n",
       "  </thead>\n",
       "  <tbody>\n",
       "    <tr>\n",
       "      <th>?|100130426</th>\n",
       "      <td>0.0000</td>\n",
       "      <td>0.0000</td>\n",
       "      <td>0.0000</td>\n",
       "      <td>0.0000</td>\n",
       "      <td>0.0000</td>\n",
       "      <td>0.0000</td>\n",
       "      <td>0.0000</td>\n",
       "      <td>0.0000</td>\n",
       "      <td>0.0000</td>\n",
       "      <td>0.0000</td>\n",
       "      <td>...</td>\n",
       "      <td>0.0000</td>\n",
       "      <td>0.3189</td>\n",
       "      <td>0.0000</td>\n",
       "      <td>0.0000</td>\n",
       "      <td>0.0000</td>\n",
       "      <td>0.0000</td>\n",
       "      <td>0.2466</td>\n",
       "      <td>0.4134</td>\n",
       "      <td>0.0000</td>\n",
       "      <td>0.5668</td>\n",
       "    </tr>\n",
       "    <tr>\n",
       "      <th>?|100133144</th>\n",
       "      <td>3.2661</td>\n",
       "      <td>2.6815</td>\n",
       "      <td>1.7301</td>\n",
       "      <td>0.0000</td>\n",
       "      <td>0.0000</td>\n",
       "      <td>1.1673</td>\n",
       "      <td>1.4422</td>\n",
       "      <td>0.0000</td>\n",
       "      <td>4.4556</td>\n",
       "      <td>7.1293</td>\n",
       "      <td>...</td>\n",
       "      <td>26.1744</td>\n",
       "      <td>28.1937</td>\n",
       "      <td>32.4153</td>\n",
       "      <td>18.6091</td>\n",
       "      <td>33.7625</td>\n",
       "      <td>35.0189</td>\n",
       "      <td>27.6770</td>\n",
       "      <td>28.6855</td>\n",
       "      <td>29.3939</td>\n",
       "      <td>19.8016</td>\n",
       "    </tr>\n",
       "    <tr>\n",
       "      <th>?|100134869</th>\n",
       "      <td>3.9385</td>\n",
       "      <td>8.9948</td>\n",
       "      <td>6.5650</td>\n",
       "      <td>1.5492</td>\n",
       "      <td>4.4709</td>\n",
       "      <td>6.0529</td>\n",
       "      <td>2.2876</td>\n",
       "      <td>1.3599</td>\n",
       "      <td>5.0581</td>\n",
       "      <td>0.0000</td>\n",
       "      <td>...</td>\n",
       "      <td>14.3662</td>\n",
       "      <td>16.5156</td>\n",
       "      <td>21.5482</td>\n",
       "      <td>17.2753</td>\n",
       "      <td>20.2653</td>\n",
       "      <td>30.1605</td>\n",
       "      <td>19.2494</td>\n",
       "      <td>21.1378</td>\n",
       "      <td>15.4703</td>\n",
       "      <td>8.5379</td>\n",
       "    </tr>\n",
       "    <tr>\n",
       "      <th>?|10357</th>\n",
       "      <td>149.1350</td>\n",
       "      <td>81.0777</td>\n",
       "      <td>86.4879</td>\n",
       "      <td>53.9117</td>\n",
       "      <td>66.9063</td>\n",
       "      <td>103.5060</td>\n",
       "      <td>94.9316</td>\n",
       "      <td>78.1955</td>\n",
       "      <td>69.2389</td>\n",
       "      <td>155.7090</td>\n",
       "      <td>...</td>\n",
       "      <td>11.5541</td>\n",
       "      <td>10.0447</td>\n",
       "      <td>15.9546</td>\n",
       "      <td>21.9117</td>\n",
       "      <td>8.4115</td>\n",
       "      <td>21.6463</td>\n",
       "      <td>35.6665</td>\n",
       "      <td>11.5371</td>\n",
       "      <td>22.0386</td>\n",
       "      <td>29.3701</td>\n",
       "    </tr>\n",
       "    <tr>\n",
       "      <th>?|10431</th>\n",
       "      <td>2034.1000</td>\n",
       "      <td>1304.9300</td>\n",
       "      <td>1054.6600</td>\n",
       "      <td>2350.8900</td>\n",
       "      <td>1257.9900</td>\n",
       "      <td>1866.4300</td>\n",
       "      <td>995.0270</td>\n",
       "      <td>1762.1200</td>\n",
       "      <td>1213.5300</td>\n",
       "      <td>2005.5700</td>\n",
       "      <td>...</td>\n",
       "      <td>357.7860</td>\n",
       "      <td>780.6260</td>\n",
       "      <td>903.2380</td>\n",
       "      <td>1033.0300</td>\n",
       "      <td>733.7430</td>\n",
       "      <td>519.9930</td>\n",
       "      <td>709.6430</td>\n",
       "      <td>702.4730</td>\n",
       "      <td>561.9840</td>\n",
       "      <td>1874.0200</td>\n",
       "    </tr>\n",
       "  </tbody>\n",
       "</table>\n",
       "<p>5 rows × 10471 columns</p>\n",
       "</div>"
      ],
      "text/plain": [
       "             TCGA-OR-A5J1-01A-11R-A29S-07  TCGA-OR-A5J2-01A-11R-A29S-07  \\\n",
       "0.0gene_id                                                                \n",
       "?|100130426                        0.0000                        0.0000   \n",
       "?|100133144                        3.2661                        2.6815   \n",
       "?|100134869                        3.9385                        8.9948   \n",
       "?|10357                          149.1350                       81.0777   \n",
       "?|10431                         2034.1000                     1304.9300   \n",
       "\n",
       "             TCGA-OR-A5J3-01A-11R-A29S-07  TCGA-OR-A5J5-01A-11R-A29S-07  \\\n",
       "0.0gene_id                                                                \n",
       "?|100130426                        0.0000                        0.0000   \n",
       "?|100133144                        1.7301                        0.0000   \n",
       "?|100134869                        6.5650                        1.5492   \n",
       "?|10357                           86.4879                       53.9117   \n",
       "?|10431                         1054.6600                     2350.8900   \n",
       "\n",
       "             TCGA-OR-A5J6-01A-31R-A29S-07  TCGA-OR-A5J7-01A-11R-A29S-07  \\\n",
       "0.0gene_id                                                                \n",
       "?|100130426                        0.0000                        0.0000   \n",
       "?|100133144                        0.0000                        1.1673   \n",
       "?|100134869                        4.4709                        6.0529   \n",
       "?|10357                           66.9063                      103.5060   \n",
       "?|10431                         1257.9900                     1866.4300   \n",
       "\n",
       "             TCGA-OR-A5J8-01A-11R-A29S-07  TCGA-OR-A5J9-01A-11R-A29S-07  \\\n",
       "0.0gene_id                                                                \n",
       "?|100130426                        0.0000                        0.0000   \n",
       "?|100133144                        1.4422                        0.0000   \n",
       "?|100134869                        2.2876                        1.3599   \n",
       "?|10357                           94.9316                       78.1955   \n",
       "?|10431                          995.0270                     1762.1200   \n",
       "\n",
       "             TCGA-OR-A5JA-01A-11R-A29S-07  TCGA-OR-A5JB-01A-11R-A29S-07  \\\n",
       "0.0gene_id                                                                \n",
       "?|100130426                        0.0000                        0.0000   \n",
       "?|100133144                        4.4556                        7.1293   \n",
       "?|100134869                        5.0581                        0.0000   \n",
       "?|10357                           69.2389                      155.7090   \n",
       "?|10431                         1213.5300                     2005.5700   \n",
       "\n",
       "                         ...               TCGA-VQ-AA6A-01A-11R-A414-31  \\\n",
       "0.0gene_id               ...                                              \n",
       "?|100130426              ...                                     0.0000   \n",
       "?|100133144              ...                                    26.1744   \n",
       "?|100134869              ...                                    14.3662   \n",
       "?|10357                  ...                                    11.5541   \n",
       "?|10431                  ...                                   357.7860   \n",
       "\n",
       "             TCGA-VQ-AA6B-01A-11R-A414-31  TCGA-VQ-AA6D-01A-11R-A414-31  \\\n",
       "0.0gene_id                                                                \n",
       "?|100130426                        0.3189                        0.0000   \n",
       "?|100133144                       28.1937                       32.4153   \n",
       "?|100134869                       16.5156                       21.5482   \n",
       "?|10357                           10.0447                       15.9546   \n",
       "?|10431                          780.6260                      903.2380   \n",
       "\n",
       "             TCGA-VQ-AA6F-01A-31R-A414-31  TCGA-VQ-AA6G-01A-11R-A414-31  \\\n",
       "0.0gene_id                                                                \n",
       "?|100130426                        0.0000                        0.0000   \n",
       "?|100133144                       18.6091                       33.7625   \n",
       "?|100134869                       17.2753                       20.2653   \n",
       "?|10357                           21.9117                        8.4115   \n",
       "?|10431                         1033.0300                      733.7430   \n",
       "\n",
       "             TCGA-VQ-AA6I-01A-11R-A414-31  TCGA-VQ-AA6J-01A-11R-A414-31  \\\n",
       "0.0gene_id                                                                \n",
       "?|100130426                        0.0000                        0.2466   \n",
       "?|100133144                       35.0189                       27.6770   \n",
       "?|100134869                       30.1605                       19.2494   \n",
       "?|10357                           21.6463                       35.6665   \n",
       "?|10431                          519.9930                      709.6430   \n",
       "\n",
       "             TCGA-VQ-AA6K-01A-11R-A414-31  TCGA-ZA-A8F6-01A-23R-A36D-31  \\\n",
       "0.0gene_id                                                                \n",
       "?|100130426                        0.4134                        0.0000   \n",
       "?|100133144                       28.6855                       29.3939   \n",
       "?|100134869                       21.1378                       15.4703   \n",
       "?|10357                           11.5371                       22.0386   \n",
       "?|10431                          702.4730                      561.9840   \n",
       "\n",
       "             TCGA-ZQ-A9CR-01A-11R-A39E-31  \n",
       "0.0gene_id                                 \n",
       "?|100130426                        0.5668  \n",
       "?|100133144                       19.8016  \n",
       "?|100134869                        8.5379  \n",
       "?|10357                           29.3701  \n",
       "?|10431                         1874.0200  \n",
       "\n",
       "[5 rows x 10471 columns]"
      ]
     },
     "execution_count": 1,
     "metadata": {},
     "output_type": "execute_result"
    }
   ],
   "source": [
    "# load the raw dataset\n",
    "import numpy as np\n",
    "import pandas as pd\n",
    "from pandas import DataFrame\n",
    "\n",
    "rawdf = pd.read_csv(\"unc.edu_PANCAN_IlluminaHiSeq_RNASeqV2.geneExp.tsv\", sep=\"\\t\", index_col=0)\n",
    "rawdf.head()"
   ]
  },
  {
   "cell_type": "code",
   "execution_count": 2,
   "metadata": {
    "collapsed": true
   },
   "outputs": [],
   "source": [
    "# transpose raw data set so row is patient samples and column is list of genes\n",
    "processeddf = rawdf.transpose()"
   ]
  },
  {
   "cell_type": "code",
   "execution_count": 3,
   "metadata": {},
   "outputs": [
    {
     "data": {
      "text/plain": [
       "False"
      ]
     },
     "execution_count": 3,
     "metadata": {},
     "output_type": "execute_result"
    }
   ],
   "source": [
    "# check to see if the raw data set has any missing values\n",
    "processeddf.isnull().any().any()"
   ]
  },
  {
   "cell_type": "code",
   "execution_count": 4,
   "metadata": {},
   "outputs": [
    {
     "data": {
      "text/plain": [
       "(10471, 20531)"
      ]
     },
     "execution_count": 4,
     "metadata": {},
     "output_type": "execute_result"
    }
   ],
   "source": [
    "# check if the any row( i.e. sample) has all zero values so we can delete them\n",
    "removed_all_zero_rows_df = processeddf.loc[(processeddf!=0).any(axis=1),:]\n",
    "removed_all_zero_rows_df.shape\n",
    "# answer is no; all 10471 samples have values; proceed to next"
   ]
  },
  {
   "cell_type": "code",
   "execution_count": 5,
   "metadata": {},
   "outputs": [
    {
     "data": {
      "text/plain": [
       "[]"
      ]
     },
     "execution_count": 5,
     "metadata": {},
     "output_type": "execute_result"
    }
   ],
   "source": [
    "# check to see if any duplicate rows/samples\n",
    "processeddf.index.get_duplicates()\n",
    "# answe is no; move to next step"
   ]
  },
  {
   "cell_type": "code",
   "execution_count": 6,
   "metadata": {},
   "outputs": [
    {
     "data": {
      "text/plain": [
       "[]"
      ]
     },
     "execution_count": 6,
     "metadata": {},
     "output_type": "execute_result"
    }
   ],
   "source": [
    "# check to see if any duplicate columns/features\n",
    "processeddf.transpose().index.get_duplicates()\n",
    "# answer is no; move to next step"
   ]
  },
  {
   "cell_type": "code",
   "execution_count": 7,
   "metadata": {},
   "outputs": [
    {
     "data": {
      "text/plain": [
       "False"
      ]
     },
     "execution_count": 7,
     "metadata": {},
     "output_type": "execute_result"
    }
   ],
   "source": [
    "# create the data label file (original data)\n",
    "\n",
    "# step 1: load tissue source site file\n",
    "dfSampleSource = pd.read_csv(\"tissueSourceSite.tsv\", sep=\"\\t\", keep_default_na=False, na_values=[])\n",
    "\n",
    "# step 2: load disease study information file\n",
    "dfSampleAbb = pd.read_csv(\"diseaseStudy.tsv\", sep=\"\\t\",keep_default_na=False, na_values=[])\n",
    "dfSampleAbb = dfSampleAbb.reset_index()\n",
    "\n",
    "\n",
    "# step 3: add \"study abbreviation\" on disease study file to tissue source sit file \n",
    "dfSampleSourceAddOn = dfSampleSource.merge(dfSampleAbb[['Study Name', 'Study Abbreviation']], on=['Study Name'])\n",
    "\n",
    "# step 4: create a new file (i.e. dflabels) for class labels\n",
    "dflabels = DataFrame(columns = ['labels'], index = processeddf.index)\n",
    "\n",
    "# step 5: add class labels to dflabels\n",
    "for i, row in processeddf.iterrows():\n",
    "    for diseaseType in dfSampleSourceAddOn['TSS Code']:\n",
    "        if(i[5:7] == diseaseType):\n",
    "            dflabels.loc[i] = dfSampleSourceAddOn.loc[dfSampleSourceAddOn['TSS Code'] == diseaseType, 'Study Abbreviation'].iloc[0]\n",
    "\n",
    "# step 6: check to see if dflabels file is all filled with tumor type\n",
    "dflabels.isnull().any().any()"
   ]
  },
  {
   "cell_type": "code",
   "execution_count": 8,
   "metadata": {},
   "outputs": [
    {
     "name": "stdout",
     "output_type": "stream",
     "text": [
      "Counter({'BRCA': 1218, 'KIRC': 606, 'LUAD': 576, 'THCA': 572, 'HNSC': 566, 'LUSC': 554, 'PRAD': 550, 'LGG': 534, 'SKCM': 474, 'STAD': 450, 'BLCA': 427, 'LIHC': 424, 'COAD': 329, 'KIRP': 323, 'CESC': 310, 'OV': 309, 'SARC': 265, 'UCEC': 201, 'ESCA': 196, 'PCPG': 187, 'PAAD': 183, 'GBM': 174, 'LAML': 173, 'TGCT': 156, 'THYM': 122, 'READ': 105, 'KICH': 91, 'MESO': 87, 'UVM': 80, 'ACC': 79, 'UCS': 57, 'DLBC': 48, 'CHOL': 45})\n"
     ]
    }
   ],
   "source": [
    "# count # of samples per class\n",
    "from collections import Counter\n",
    "print (Counter(dflabels['labels']))"
   ]
  },
  {
   "cell_type": "code",
   "execution_count": 9,
   "metadata": {},
   "outputs": [
    {
     "data": {
      "text/plain": [
       "33"
      ]
     },
     "execution_count": 9,
     "metadata": {},
     "output_type": "execute_result"
    }
   ],
   "source": [
    "# count total 3 of classes\n",
    "len(Counter(dflabels['labels']))"
   ]
  },
  {
   "cell_type": "code",
   "execution_count": 10,
   "metadata": {},
   "outputs": [
    {
     "data": {
      "text/plain": [
       "317.3030303030303"
      ]
     },
     "execution_count": 10,
     "metadata": {},
     "output_type": "execute_result"
    }
   ],
   "source": [
    "# calculate ave number per class\n",
    "10471/33\n",
    "# answer is 317.333; pick 300 samples per class"
   ]
  },
  {
   "cell_type": "code",
   "execution_count": 11,
   "metadata": {
    "collapsed": true
   },
   "outputs": [],
   "source": [
    "# randomly select 300 samples per class\n",
    "above300tumortype = ['BRCA','KIRC','LUAD','THCA','HNSC','LUSC','PRAD','LGG','SKCM',\n",
    "                     'STAD','BLCA','LIHC','COAD','KIRP','CESC','OV']\n",
    "below300tumortype = ['SARC','UCEC','ESCA','PCPG','PAAD','GBM','LAML','TGCT','THYM',\n",
    "                     'READ','KICH','MESO','UVM','ACC','UCS','DLBC','CHOL']\n",
    "undersample300df = DataFrame(columns = processeddf.columns)\n",
    "\n",
    "for i in above300tumortype:\n",
    "    OnetypeAll = dflabels.loc[dflabels['labels'] == i].index\n",
    "    OnetypeAll300 = np.random.choice(OnetypeAll, 300, replace=False)\n",
    "    undersample300df = undersample300df.append(processeddf.loc[OnetypeAll300])\n",
    "    \n",
    "for i in below300tumortype :\n",
    "    OnetypeAll = dflabels.loc[dflabels['labels'] == i].index\n",
    "    OnetypeAll300 = np.random.choice(OnetypeAll, 300, replace=True)\n",
    "    undersample300df = undersample300df.append(processeddf.loc[OnetypeAll300]) "
   ]
  },
  {
   "cell_type": "code",
   "execution_count": 12,
   "metadata": {},
   "outputs": [
    {
     "data": {
      "text/plain": [
       "(9900, 20531)"
      ]
     },
     "execution_count": 12,
     "metadata": {},
     "output_type": "execute_result"
    }
   ],
   "source": [
    "# confirm total has 9900 samples selected\n",
    "undersample300df.shape"
   ]
  },
  {
   "cell_type": "code",
   "execution_count": 13,
   "metadata": {},
   "outputs": [
    {
     "data": {
      "text/plain": [
       "False"
      ]
     },
     "execution_count": 13,
     "metadata": {},
     "output_type": "execute_result"
    }
   ],
   "source": [
    "# create the data label file\n",
    "\n",
    "# step 1: load tissue source site file\n",
    "dfSampleSource = pd.read_csv(\"tissueSourceSite.tsv\", sep=\"\\t\", keep_default_na=False, na_values=[])\n",
    "\n",
    "# step 2: load disease study information file\n",
    "dfSampleAbb = pd.read_csv(\"diseaseStudy.tsv\", sep=\"\\t\",keep_default_na=False, na_values=[])\n",
    "dfSampleAbb = dfSampleAbb.reset_index()\n",
    "\n",
    "\n",
    "# step 3: add \"study abbreviation\" on disease study file to tissue source sit file \n",
    "dfSampleSourceAddOn = dfSampleSource.merge(dfSampleAbb[['Study Name', 'Study Abbreviation']], on=['Study Name'])\n",
    "\n",
    "# step 4: create a new file (i.e. dflabels) for class labels\n",
    "dflabels = DataFrame(columns = ['labels'], index = undersample300df.index)\n",
    "\n",
    "# step 5: add class labels to dflabels\n",
    "for i, row in undersample300df.iterrows():\n",
    "    for diseaseType in dfSampleSourceAddOn['TSS Code']:\n",
    "        if(i[5:7] == diseaseType):\n",
    "            dflabels.loc[i] = dfSampleSourceAddOn.loc[dfSampleSourceAddOn['TSS Code'] == diseaseType, 'Study Abbreviation'].iloc[0]\n",
    "\n",
    "# step 6: check to see if dflabels file is all filled with tumor type\n",
    "dflabels.isnull().any().any()"
   ]
  },
  {
   "cell_type": "code",
   "execution_count": 14,
   "metadata": {
    "collapsed": true
   },
   "outputs": [],
   "source": [
    "# export dflabels to a csv file so later on we can use this file as class label file\n",
    "dflabels.to_csv('project_class_labels_300.csv')"
   ]
  },
  {
   "cell_type": "code",
   "execution_count": 15,
   "metadata": {
    "collapsed": true
   },
   "outputs": [],
   "source": [
    "# export undersample300df to a csv file so later on we can use this file as class label file\n",
    "undersample300df.to_csv('project_data_down_300.csv')"
   ]
  }
 ],
 "metadata": {
  "kernelspec": {
   "display_name": "Python 3",
   "language": "python",
   "name": "python3"
  },
  "language_info": {
   "codemirror_mode": {
    "name": "ipython",
    "version": 3
   },
   "file_extension": ".py",
   "mimetype": "text/x-python",
   "name": "python",
   "nbconvert_exporter": "python",
   "pygments_lexer": "ipython3",
   "version": "3.6.2"
  }
 },
 "nbformat": 4,
 "nbformat_minor": 2
}
