{
 "cells": [
  {
   "cell_type": "code",
   "execution_count": 1,
   "metadata": {
    "collapsed": true
   },
   "outputs": [],
   "source": [
    "# load data and class label\n",
    "import numpy as np\n",
    "import pandas as pd\n",
    "from pandas import DataFrame\n",
    "\n",
    "\n",
    "dflabels = pd.read_csv('project_class_labels_300.csv',index_col='Unnamed: 0')\n",
    "processeddf = pd.read_csv('project_data_down_300.csv',index_col='Unnamed: 0')"
   ]
  },
  {
   "cell_type": "code",
   "execution_count": 2,
   "metadata": {},
   "outputs": [
    {
     "data": {
      "text/plain": [
       "(9900, 20317)"
      ]
     },
     "execution_count": 2,
     "metadata": {},
     "output_type": "execute_result"
    }
   ],
   "source": [
    "# check to see if there is any feature (i.e. column) has all zero values so we will delete them\n",
    "removedAllZeroColdf = processeddf.loc[:, (processeddf != 0).any(axis=0)]\n",
    "removedAllZeroColdf.shape"
   ]
  },
  {
   "cell_type": "code",
   "execution_count": 3,
   "metadata": {},
   "outputs": [
    {
     "data": {
      "text/plain": [
       "(9900, 6729)"
      ]
     },
     "execution_count": 3,
     "metadata": {},
     "output_type": "execute_result"
    }
   ],
   "source": [
    "# Feature Selection - Variance Threshold \n",
    "\n",
    "from sklearn.feature_selection import VarianceThreshold\n",
    "sel = VarianceThreshold(threshold=500000)\n",
    "reduced = sel.fit_transform(removedAllZeroColdf)\n",
    "reduceddf = DataFrame(reduced)\n",
    "reduced.shape"
   ]
  },
  {
   "cell_type": "code",
   "execution_count": 4,
   "metadata": {},
   "outputs": [
    {
     "data": {
      "text/html": [
       "<div>\n",
       "<style>\n",
       "    .dataframe thead tr:only-child th {\n",
       "        text-align: right;\n",
       "    }\n",
       "\n",
       "    .dataframe thead th {\n",
       "        text-align: left;\n",
       "    }\n",
       "\n",
       "    .dataframe tbody tr th {\n",
       "        vertical-align: top;\n",
       "    }\n",
       "</style>\n",
       "<table border=\"1\" class=\"dataframe\">\n",
       "  <thead>\n",
       "    <tr style=\"text-align: right;\">\n",
       "      <th></th>\n",
       "      <th>0</th>\n",
       "      <th>1</th>\n",
       "      <th>2</th>\n",
       "      <th>3</th>\n",
       "      <th>4</th>\n",
       "      <th>5</th>\n",
       "      <th>6</th>\n",
       "      <th>7</th>\n",
       "      <th>8</th>\n",
       "      <th>9</th>\n",
       "      <th>...</th>\n",
       "      <th>20307</th>\n",
       "      <th>20308</th>\n",
       "      <th>20309</th>\n",
       "      <th>20310</th>\n",
       "      <th>20311</th>\n",
       "      <th>20312</th>\n",
       "      <th>20313</th>\n",
       "      <th>20314</th>\n",
       "      <th>20315</th>\n",
       "      <th>20316</th>\n",
       "    </tr>\n",
       "  </thead>\n",
       "  <tbody>\n",
       "    <tr>\n",
       "      <th>0</th>\n",
       "      <td>-0.17872</td>\n",
       "      <td>0.007263</td>\n",
       "      <td>0.576432</td>\n",
       "      <td>-0.617724</td>\n",
       "      <td>-0.950087</td>\n",
       "      <td>-0.039408</td>\n",
       "      <td>-0.013745</td>\n",
       "      <td>-0.070064</td>\n",
       "      <td>-0.101265</td>\n",
       "      <td>-0.014152</td>\n",
       "      <td>...</td>\n",
       "      <td>2.335216</td>\n",
       "      <td>1.065582</td>\n",
       "      <td>0.338502</td>\n",
       "      <td>0.070045</td>\n",
       "      <td>0.864523</td>\n",
       "      <td>-0.715678</td>\n",
       "      <td>0.841293</td>\n",
       "      <td>2.689865</td>\n",
       "      <td>0.278710</td>\n",
       "      <td>-0.162154</td>\n",
       "    </tr>\n",
       "    <tr>\n",
       "      <th>1</th>\n",
       "      <td>-0.17872</td>\n",
       "      <td>-0.714527</td>\n",
       "      <td>-0.329412</td>\n",
       "      <td>-0.506457</td>\n",
       "      <td>0.849333</td>\n",
       "      <td>-0.039408</td>\n",
       "      <td>2.125386</td>\n",
       "      <td>-0.274288</td>\n",
       "      <td>0.225202</td>\n",
       "      <td>-0.014152</td>\n",
       "      <td>...</td>\n",
       "      <td>-0.530446</td>\n",
       "      <td>1.033751</td>\n",
       "      <td>-0.352114</td>\n",
       "      <td>0.247356</td>\n",
       "      <td>-0.955815</td>\n",
       "      <td>-0.685151</td>\n",
       "      <td>-1.069078</td>\n",
       "      <td>-0.775234</td>\n",
       "      <td>-0.010300</td>\n",
       "      <td>-0.162154</td>\n",
       "    </tr>\n",
       "    <tr>\n",
       "      <th>2</th>\n",
       "      <td>-0.17872</td>\n",
       "      <td>-0.069212</td>\n",
       "      <td>-0.387740</td>\n",
       "      <td>0.769218</td>\n",
       "      <td>-0.082723</td>\n",
       "      <td>-0.039408</td>\n",
       "      <td>0.248331</td>\n",
       "      <td>1.092781</td>\n",
       "      <td>-0.101265</td>\n",
       "      <td>-0.014152</td>\n",
       "      <td>...</td>\n",
       "      <td>0.143998</td>\n",
       "      <td>0.673286</td>\n",
       "      <td>-0.056255</td>\n",
       "      <td>-0.017657</td>\n",
       "      <td>-0.966170</td>\n",
       "      <td>0.255371</td>\n",
       "      <td>0.474685</td>\n",
       "      <td>-0.847764</td>\n",
       "      <td>-0.286717</td>\n",
       "      <td>-0.162154</td>\n",
       "    </tr>\n",
       "    <tr>\n",
       "      <th>3</th>\n",
       "      <td>-0.17872</td>\n",
       "      <td>-0.700030</td>\n",
       "      <td>-0.768504</td>\n",
       "      <td>-0.229050</td>\n",
       "      <td>1.431617</td>\n",
       "      <td>-0.039408</td>\n",
       "      <td>-0.168322</td>\n",
       "      <td>-0.615445</td>\n",
       "      <td>-0.101265</td>\n",
       "      <td>-0.014152</td>\n",
       "      <td>...</td>\n",
       "      <td>-1.284596</td>\n",
       "      <td>-1.034881</td>\n",
       "      <td>-1.108975</td>\n",
       "      <td>-0.079580</td>\n",
       "      <td>-0.815166</td>\n",
       "      <td>-0.252349</td>\n",
       "      <td>-0.685219</td>\n",
       "      <td>-0.976411</td>\n",
       "      <td>-0.288684</td>\n",
       "      <td>-0.162154</td>\n",
       "    </tr>\n",
       "    <tr>\n",
       "      <th>4</th>\n",
       "      <td>-0.17872</td>\n",
       "      <td>-0.569570</td>\n",
       "      <td>-0.539865</td>\n",
       "      <td>0.665249</td>\n",
       "      <td>0.309515</td>\n",
       "      <td>-0.039408</td>\n",
       "      <td>-0.206394</td>\n",
       "      <td>0.088578</td>\n",
       "      <td>-0.101265</td>\n",
       "      <td>-0.014152</td>\n",
       "      <td>...</td>\n",
       "      <td>-0.143753</td>\n",
       "      <td>-0.262679</td>\n",
       "      <td>-0.464457</td>\n",
       "      <td>-0.177959</td>\n",
       "      <td>-0.243623</td>\n",
       "      <td>0.550680</td>\n",
       "      <td>-0.192411</td>\n",
       "      <td>-0.904487</td>\n",
       "      <td>-0.261637</td>\n",
       "      <td>-0.162154</td>\n",
       "    </tr>\n",
       "  </tbody>\n",
       "</table>\n",
       "<p>5 rows × 20317 columns</p>\n",
       "</div>"
      ],
      "text/plain": [
       "     0         1         2         3         4         5         6      \\\n",
       "0 -0.17872  0.007263  0.576432 -0.617724 -0.950087 -0.039408 -0.013745   \n",
       "1 -0.17872 -0.714527 -0.329412 -0.506457  0.849333 -0.039408  2.125386   \n",
       "2 -0.17872 -0.069212 -0.387740  0.769218 -0.082723 -0.039408  0.248331   \n",
       "3 -0.17872 -0.700030 -0.768504 -0.229050  1.431617 -0.039408 -0.168322   \n",
       "4 -0.17872 -0.569570 -0.539865  0.665249  0.309515 -0.039408 -0.206394   \n",
       "\n",
       "      7         8         9        ...        20307     20308     20309  \\\n",
       "0 -0.070064 -0.101265 -0.014152    ...     2.335216  1.065582  0.338502   \n",
       "1 -0.274288  0.225202 -0.014152    ...    -0.530446  1.033751 -0.352114   \n",
       "2  1.092781 -0.101265 -0.014152    ...     0.143998  0.673286 -0.056255   \n",
       "3 -0.615445 -0.101265 -0.014152    ...    -1.284596 -1.034881 -1.108975   \n",
       "4  0.088578 -0.101265 -0.014152    ...    -0.143753 -0.262679 -0.464457   \n",
       "\n",
       "      20310     20311     20312     20313     20314     20315     20316  \n",
       "0  0.070045  0.864523 -0.715678  0.841293  2.689865  0.278710 -0.162154  \n",
       "1  0.247356 -0.955815 -0.685151 -1.069078 -0.775234 -0.010300 -0.162154  \n",
       "2 -0.017657 -0.966170  0.255371  0.474685 -0.847764 -0.286717 -0.162154  \n",
       "3 -0.079580 -0.815166 -0.252349 -0.685219 -0.976411 -0.288684 -0.162154  \n",
       "4 -0.177959 -0.243623  0.550680 -0.192411 -0.904487 -0.261637 -0.162154  \n",
       "\n",
       "[5 rows x 20317 columns]"
      ]
     },
     "execution_count": 4,
     "metadata": {},
     "output_type": "execute_result"
    }
   ],
   "source": [
    "# data scaling\n",
    "# method 1 : standardization\n",
    "from sklearn.preprocessing import StandardScaler\n",
    "\n",
    "stdscaler = StandardScaler()\n",
    "stdscalerfit = stdscaler.fit_transform(removedAllZeroColdf)\n",
    "\n",
    "stddf = DataFrame(stdscalerfit)\n",
    "stddf.head()"
   ]
  },
  {
   "cell_type": "code",
   "execution_count": 5,
   "metadata": {
    "collapsed": true
   },
   "outputs": [],
   "source": [
    "from sklearn.preprocessing import label_binarize\n",
    "\n",
    "y = label_binarize(dflabels, classes=['BRCA','KIRC','LUAD','THCA','HNSC','LUSC','PRAD',\n",
    "                                      'LGG','SKCM','STAD','BLCA','LIHC','COAD','KIRP',\n",
    "                                      'CESC','OV','SARC','UCEC','ESCA','PCPG','PAAD',\n",
    "                                      'GBM', 'LAML', 'TGCT', 'THYM', 'READ', 'KICH', \n",
    "                                      'MESO', 'UVM', 'ACC', 'UCS', 'DLBC', 'CHOL'])\n",
    "n_classes = 33"
   ]
  },
  {
   "cell_type": "code",
   "execution_count": 6,
   "metadata": {
    "collapsed": true
   },
   "outputs": [],
   "source": [
    "# split 80% training set; 20% testing set\n",
    "from sklearn.model_selection import train_test_split\n",
    "\n",
    "X_train, X_test, y_train, y_test = train_test_split(reduceddf, y, test_size=0.20)"
   ]
  },
  {
   "cell_type": "code",
   "execution_count": 7,
   "metadata": {
    "collapsed": true
   },
   "outputs": [],
   "source": [
    "# decision tree\n",
    "\n",
    "from sklearn import tree\n",
    "from sklearn.metrics import accuracy_score\n",
    "from sklearn.multiclass import OneVsRestClassifier\n",
    "\n",
    "from sklearn.metrics import roc_curve, auc\n",
    "import matplotlib.pyplot as plt\n",
    "\n",
    "entrophy_clf = OneVsRestClassifier(tree.DecisionTreeClassifier(criterion='entropy',\n",
    "            min_samples_leaf=1,min_samples_split=2, \n",
    "            min_weight_fraction_leaf=0.0))\n",
    "\n",
    "y_score = entrophy_clf.fit(X_train, y_train).predict_proba(X_test)\n",
    "\n",
    "\n",
    "# Compute ROC curve and ROC area for each class\n",
    "fpr = dict()\n",
    "tpr = dict()\n",
    "roc_auc = dict()\n",
    "for i in range(n_classes):\n",
    "    fpr[i], tpr[i], _ = roc_curve(y_test[:, i], y_score[:, i])\n",
    "    roc_auc[i] = auc(fpr[i], tpr[i])"
   ]
  },
  {
   "cell_type": "code",
   "execution_count": 8,
   "metadata": {
    "collapsed": true
   },
   "outputs": [],
   "source": [
    "# Compute micro-average ROC curve and ROC area\n",
    "fpr[\"micro\"], tpr[\"micro\"], _ = roc_curve(y_test.ravel(), y_score.ravel())\n",
    "roc_auc[\"micro\"] = auc(fpr[\"micro\"], tpr[\"micro\"])"
   ]
  },
  {
   "cell_type": "code",
   "execution_count": 9,
   "metadata": {},
   "outputs": [
    {
     "data": {
      "text/plain": [
       "array([ 0.        ,  0.00244634,  1.        ])"
      ]
     },
     "execution_count": 9,
     "metadata": {},
     "output_type": "execute_result"
    }
   ],
   "source": [
    "fpr[\"micro\"]"
   ]
  },
  {
   "cell_type": "code",
   "execution_count": 10,
   "metadata": {},
   "outputs": [
    {
     "data": {
      "text/plain": [
       "array([ 0.        ,  0.92272727,  1.        ])"
      ]
     },
     "execution_count": 10,
     "metadata": {},
     "output_type": "execute_result"
    }
   ],
   "source": [
    "tpr[\"micro\"]"
   ]
  },
  {
   "cell_type": "code",
   "execution_count": 11,
   "metadata": {},
   "outputs": [
    {
     "data": {
      "text/plain": [
       "0.9601404671717173"
      ]
     },
     "execution_count": 11,
     "metadata": {},
     "output_type": "execute_result"
    }
   ],
   "source": [
    "roc_auc[\"micro\"]"
   ]
  }
 ],
 "metadata": {
  "kernelspec": {
   "display_name": "Python 3",
   "language": "python",
   "name": "python3"
  },
  "language_info": {
   "codemirror_mode": {
    "name": "ipython",
    "version": 3
   },
   "file_extension": ".py",
   "mimetype": "text/x-python",
   "name": "python",
   "nbconvert_exporter": "python",
   "pygments_lexer": "ipython3",
   "version": "3.6.2"
  }
 },
 "nbformat": 4,
 "nbformat_minor": 2
}
